{
 "cells": [
  {
   "cell_type": "markdown",
   "metadata": {},
   "source": [
    "### E-commerce Customer Segmentation (RFM + K-Means)"
   ]
  },
  {
   "cell_type": "code",
   "execution_count": 1,
   "metadata": {},
   "outputs": [],
   "source": [
    "#Import all required dependencies\n",
    "import pandas as pd\n",
    "import numpy as np\n",
    "import matplotlib.pyplot as plt\n",
    "import seaborn as sns\n",
    "from sklearn.cluster import KMeans\n",
    "from datetime import datetime"
   ]
  },
  {
   "cell_type": "markdown",
   "metadata": {},
   "source": [
    "#### Step 1: Data Cleaning & Preprocessing\n",
    "##### Load and Clean the Data"
   ]
  },
  {
   "cell_type": "code",
   "execution_count": 2,
   "metadata": {},
   "outputs": [],
   "source": [
    "#Import dataset from uicml\n",
    "from ucimlrepo import fetch_ucirepo\n",
    "\n",
    "#Fecth dataset\n",
    "online_retail = fetch_ucirepo(id=352)"
   ]
  },
  {
   "cell_type": "code",
   "execution_count": 4,
   "metadata": {},
   "outputs": [
    {
     "name": "stdout",
     "output_type": "stream",
     "text": [
      "{'uci_id': 352, 'name': 'Online Retail', 'repository_url': 'https://archive.ics.uci.edu/dataset/352/online+retail', 'data_url': 'https://archive.ics.uci.edu/static/public/352/data.csv', 'abstract': 'This is a transactional data set which contains all the transactions occurring between 01/12/2010 and 09/12/2011 for a UK-based and registered non-store online retail.', 'area': 'Business', 'tasks': ['Classification', 'Clustering'], 'characteristics': ['Multivariate', 'Sequential', 'Time-Series'], 'num_instances': 541909, 'num_features': 6, 'feature_types': ['Integer', 'Real'], 'demographics': [], 'target_col': None, 'index_col': ['InvoiceNo', 'StockCode'], 'has_missing_values': 'no', 'missing_values_symbol': None, 'year_of_dataset_creation': 2015, 'last_updated': 'Mon Oct 21 2024', 'dataset_doi': '10.24432/C5BW33', 'creators': ['Daqing Chen'], 'intro_paper': {'ID': 361, 'type': 'NATIVE', 'title': 'Data mining for the online retail industry: A case study of RFM model-based customer segmentation using data mining', 'authors': 'Daqing Chen, Sai Laing Sain, Kun Guo', 'venue': 'Journal of Database Marketing and Customer Strategy Management, Vol. 19, No. 3', 'year': 2012, 'journal': None, 'DOI': '10.1057/dbm.2012.17', 'URL': 'https://www.semanticscholar.org/paper/e43a5a90fa33d419df42e485099f8f08badf2149', 'sha': None, 'corpus': None, 'arxiv': None, 'mag': None, 'acl': None, 'pmid': None, 'pmcid': None}, 'additional_info': {'summary': 'This is a transactional data set which contains all the transactions occurring between 01/12/2010 and 09/12/2011 for a UK-based and registered non-store online retail.The company mainly sells unique all-occasion gifts. Many customers of the company are wholesalers.', 'purpose': None, 'funded_by': None, 'instances_represent': None, 'recommended_data_splits': None, 'sensitive_data': None, 'preprocessing_description': None, 'variable_info': \"InvoiceNo: Invoice number. Nominal, a 6-digit integral number uniquely assigned to each transaction. If this code starts with letter 'c', it indicates a cancellation. \\nStockCode: Product (item) code. Nominal, a 5-digit integral number uniquely assigned to each distinct product.\\nDescription: Product (item) name. Nominal.\\nQuantity: The quantities of each product (item) per transaction. Numeric.\\t\\nInvoiceDate: Invoice Date and time. Numeric, the day and time when each transaction was generated.\\nUnitPrice: Unit price. Numeric, Product price per unit in sterling.\\nCustomerID: Customer number. Nominal, a 5-digit integral number uniquely assigned to each customer.\\nCountry: Country name. Nominal, the name of the country where each customer resides. \", 'citation': None}}\n"
     ]
    }
   ],
   "source": [
    "# metadata \n",
    "print(online_retail.metadata)"
   ]
  },
  {
   "cell_type": "code",
   "execution_count": 5,
   "metadata": {},
   "outputs": [
    {
     "name": "stdout",
     "output_type": "stream",
     "text": [
      "          name     role         type demographic  \\\n",
      "0    InvoiceNo       ID  Categorical        None   \n",
      "1    StockCode       ID  Categorical        None   \n",
      "2  Description  Feature  Categorical        None   \n",
      "3     Quantity  Feature      Integer        None   \n",
      "4  InvoiceDate  Feature         Date        None   \n",
      "5    UnitPrice  Feature   Continuous        None   \n",
      "6   CustomerID  Feature  Categorical        None   \n",
      "7      Country  Feature  Categorical        None   \n",
      "\n",
      "                                         description     units missing_values  \n",
      "0  a 6-digit integral number uniquely assigned to...      None             no  \n",
      "1  a 5-digit integral number uniquely assigned to...      None             no  \n",
      "2                                       product name      None             no  \n",
      "3  the quantities of each product (item) per tran...      None             no  \n",
      "4  the day and time when each transaction was gen...      None             no  \n",
      "5                             product price per unit  sterling             no  \n",
      "6  a 5-digit integral number uniquely assigned to...      None             no  \n",
      "7  the name of the country where each customer re...      None             no  \n"
     ]
    }
   ],
   "source": [
    "# variable information \n",
    "print(online_retail.variables)"
   ]
  },
  {
   "cell_type": "code",
   "execution_count": 6,
   "metadata": {},
   "outputs": [
    {
     "data": {
      "text/plain": [
       "{'data': {'ids':        InvoiceNo StockCode\n",
       "  0         536365    85123A\n",
       "  1         536365     71053\n",
       "  2         536365    84406B\n",
       "  3         536365    84029G\n",
       "  4         536365    84029E\n",
       "  ...          ...       ...\n",
       "  541904    581587     22613\n",
       "  541905    581587     22899\n",
       "  541906    581587     23254\n",
       "  541907    581587     23255\n",
       "  541908    581587     22138\n",
       "  \n",
       "  [541909 rows x 2 columns],\n",
       "  'features':                                 Description  Quantity      InvoiceDate  \\\n",
       "  0        WHITE HANGING HEART T-LIGHT HOLDER         6   12/1/2010 8:26   \n",
       "  1                       WHITE METAL LANTERN         6   12/1/2010 8:26   \n",
       "  2            CREAM CUPID HEARTS COAT HANGER         8   12/1/2010 8:26   \n",
       "  3       KNITTED UNION FLAG HOT WATER BOTTLE         6   12/1/2010 8:26   \n",
       "  4            RED WOOLLY HOTTIE WHITE HEART.         6   12/1/2010 8:26   \n",
       "  ...                                     ...       ...              ...   \n",
       "  541904          PACK OF 20 SPACEBOY NAPKINS        12  12/9/2011 12:50   \n",
       "  541905         CHILDREN'S APRON DOLLY GIRL          6  12/9/2011 12:50   \n",
       "  541906        CHILDRENS CUTLERY DOLLY GIRL          4  12/9/2011 12:50   \n",
       "  541907      CHILDRENS CUTLERY CIRCUS PARADE         4  12/9/2011 12:50   \n",
       "  541908        BAKING SET 9 PIECE RETROSPOT          3  12/9/2011 12:50   \n",
       "  \n",
       "          UnitPrice  CustomerID         Country  \n",
       "  0            2.55     17850.0  United Kingdom  \n",
       "  1            3.39     17850.0  United Kingdom  \n",
       "  2            2.75     17850.0  United Kingdom  \n",
       "  3            3.39     17850.0  United Kingdom  \n",
       "  4            3.39     17850.0  United Kingdom  \n",
       "  ...           ...         ...             ...  \n",
       "  541904       0.85     12680.0          France  \n",
       "  541905       2.10     12680.0          France  \n",
       "  541906       4.15     12680.0          France  \n",
       "  541907       4.15     12680.0          France  \n",
       "  541908       4.95     12680.0          France  \n",
       "  \n",
       "  [541909 rows x 6 columns],\n",
       "  'targets': None,\n",
       "  'original':        InvoiceNo StockCode                          Description  Quantity  \\\n",
       "  0         536365    85123A   WHITE HANGING HEART T-LIGHT HOLDER         6   \n",
       "  1         536365     71053                  WHITE METAL LANTERN         6   \n",
       "  2         536365    84406B       CREAM CUPID HEARTS COAT HANGER         8   \n",
       "  3         536365    84029G  KNITTED UNION FLAG HOT WATER BOTTLE         6   \n",
       "  4         536365    84029E       RED WOOLLY HOTTIE WHITE HEART.         6   \n",
       "  ...          ...       ...                                  ...       ...   \n",
       "  541904    581587     22613          PACK OF 20 SPACEBOY NAPKINS        12   \n",
       "  541905    581587     22899         CHILDREN'S APRON DOLLY GIRL          6   \n",
       "  541906    581587     23254        CHILDRENS CUTLERY DOLLY GIRL          4   \n",
       "  541907    581587     23255      CHILDRENS CUTLERY CIRCUS PARADE         4   \n",
       "  541908    581587     22138        BAKING SET 9 PIECE RETROSPOT          3   \n",
       "  \n",
       "              InvoiceDate  UnitPrice  CustomerID         Country  \n",
       "  0        12/1/2010 8:26       2.55     17850.0  United Kingdom  \n",
       "  1        12/1/2010 8:26       3.39     17850.0  United Kingdom  \n",
       "  2        12/1/2010 8:26       2.75     17850.0  United Kingdom  \n",
       "  3        12/1/2010 8:26       3.39     17850.0  United Kingdom  \n",
       "  4        12/1/2010 8:26       3.39     17850.0  United Kingdom  \n",
       "  ...                 ...        ...         ...             ...  \n",
       "  541904  12/9/2011 12:50       0.85     12680.0          France  \n",
       "  541905  12/9/2011 12:50       2.10     12680.0          France  \n",
       "  541906  12/9/2011 12:50       4.15     12680.0          France  \n",
       "  541907  12/9/2011 12:50       4.15     12680.0          France  \n",
       "  541908  12/9/2011 12:50       4.95     12680.0          France  \n",
       "  \n",
       "  [541909 rows x 8 columns],\n",
       "  'headers': Index(['InvoiceNo', 'StockCode', 'Description', 'Quantity', 'InvoiceDate',\n",
       "         'UnitPrice', 'CustomerID', 'Country'],\n",
       "        dtype='object')},\n",
       " 'metadata': {'uci_id': 352,\n",
       "  'name': 'Online Retail',\n",
       "  'repository_url': 'https://archive.ics.uci.edu/dataset/352/online+retail',\n",
       "  'data_url': 'https://archive.ics.uci.edu/static/public/352/data.csv',\n",
       "  'abstract': 'This is a transactional data set which contains all the transactions occurring between 01/12/2010 and 09/12/2011 for a UK-based and registered non-store online retail.',\n",
       "  'area': 'Business',\n",
       "  'tasks': ['Classification', 'Clustering'],\n",
       "  'characteristics': ['Multivariate', 'Sequential', 'Time-Series'],\n",
       "  'num_instances': 541909,\n",
       "  'num_features': 6,\n",
       "  'feature_types': ['Integer', 'Real'],\n",
       "  'demographics': [],\n",
       "  'target_col': None,\n",
       "  'index_col': ['InvoiceNo', 'StockCode'],\n",
       "  'has_missing_values': 'no',\n",
       "  'missing_values_symbol': None,\n",
       "  'year_of_dataset_creation': 2015,\n",
       "  'last_updated': 'Mon Oct 21 2024',\n",
       "  'dataset_doi': '10.24432/C5BW33',\n",
       "  'creators': ['Daqing Chen'],\n",
       "  'intro_paper': {'ID': 361,\n",
       "   'type': 'NATIVE',\n",
       "   'title': 'Data mining for the online retail industry: A case study of RFM model-based customer segmentation using data mining',\n",
       "   'authors': 'Daqing Chen, Sai Laing Sain, Kun Guo',\n",
       "   'venue': 'Journal of Database Marketing and Customer Strategy Management, Vol. 19, No. 3',\n",
       "   'year': 2012,\n",
       "   'journal': None,\n",
       "   'DOI': '10.1057/dbm.2012.17',\n",
       "   'URL': 'https://www.semanticscholar.org/paper/e43a5a90fa33d419df42e485099f8f08badf2149',\n",
       "   'sha': None,\n",
       "   'corpus': None,\n",
       "   'arxiv': None,\n",
       "   'mag': None,\n",
       "   'acl': None,\n",
       "   'pmid': None,\n",
       "   'pmcid': None},\n",
       "  'additional_info': {'summary': 'This is a transactional data set which contains all the transactions occurring between 01/12/2010 and 09/12/2011 for a UK-based and registered non-store online retail.The company mainly sells unique all-occasion gifts. Many customers of the company are wholesalers.',\n",
       "   'purpose': None,\n",
       "   'funded_by': None,\n",
       "   'instances_represent': None,\n",
       "   'recommended_data_splits': None,\n",
       "   'sensitive_data': None,\n",
       "   'preprocessing_description': None,\n",
       "   'variable_info': \"InvoiceNo: Invoice number. Nominal, a 6-digit integral number uniquely assigned to each transaction. If this code starts with letter 'c', it indicates a cancellation. \\nStockCode: Product (item) code. Nominal, a 5-digit integral number uniquely assigned to each distinct product.\\nDescription: Product (item) name. Nominal.\\nQuantity: The quantities of each product (item) per transaction. Numeric.\\t\\nInvoiceDate: Invoice Date and time. Numeric, the day and time when each transaction was generated.\\nUnitPrice: Unit price. Numeric, Product price per unit in sterling.\\nCustomerID: Customer number. Nominal, a 5-digit integral number uniquely assigned to each customer.\\nCountry: Country name. Nominal, the name of the country where each customer resides. \",\n",
       "   'citation': None}},\n",
       " 'variables':           name     role         type demographic  \\\n",
       " 0    InvoiceNo       ID  Categorical        None   \n",
       " 1    StockCode       ID  Categorical        None   \n",
       " 2  Description  Feature  Categorical        None   \n",
       " 3     Quantity  Feature      Integer        None   \n",
       " 4  InvoiceDate  Feature         Date        None   \n",
       " 5    UnitPrice  Feature   Continuous        None   \n",
       " 6   CustomerID  Feature  Categorical        None   \n",
       " 7      Country  Feature  Categorical        None   \n",
       " \n",
       "                                          description     units missing_values  \n",
       " 0  a 6-digit integral number uniquely assigned to...      None             no  \n",
       " 1  a 5-digit integral number uniquely assigned to...      None             no  \n",
       " 2                                       product name      None             no  \n",
       " 3  the quantities of each product (item) per tran...      None             no  \n",
       " 4  the day and time when each transaction was gen...      None             no  \n",
       " 5                             product price per unit  sterling             no  \n",
       " 6  a 5-digit integral number uniquely assigned to...      None             no  \n",
       " 7  the name of the country where each customer re...      None             no  }"
      ]
     },
     "execution_count": 6,
     "metadata": {},
     "output_type": "execute_result"
    }
   ],
   "source": [
    "online_retail"
   ]
  },
  {
   "cell_type": "code",
   "execution_count": 12,
   "metadata": {},
   "outputs": [
    {
     "data": {
      "text/html": [
       "<div>\n",
       "<style scoped>\n",
       "    .dataframe tbody tr th:only-of-type {\n",
       "        vertical-align: middle;\n",
       "    }\n",
       "\n",
       "    .dataframe tbody tr th {\n",
       "        vertical-align: top;\n",
       "    }\n",
       "\n",
       "    .dataframe thead th {\n",
       "        text-align: right;\n",
       "    }\n",
       "</style>\n",
       "<table border=\"1\" class=\"dataframe\">\n",
       "  <thead>\n",
       "    <tr style=\"text-align: right;\">\n",
       "      <th></th>\n",
       "      <th>InvoiceNo</th>\n",
       "      <th>StockCode</th>\n",
       "      <th>Description</th>\n",
       "      <th>Quantity</th>\n",
       "      <th>InvoiceDate</th>\n",
       "      <th>UnitPrice</th>\n",
       "      <th>CustomerID</th>\n",
       "      <th>Country</th>\n",
       "    </tr>\n",
       "  </thead>\n",
       "  <tbody>\n",
       "    <tr>\n",
       "      <th>0</th>\n",
       "      <td>536365</td>\n",
       "      <td>85123A</td>\n",
       "      <td>WHITE HANGING HEART T-LIGHT HOLDER</td>\n",
       "      <td>6</td>\n",
       "      <td>12/1/2010 8:26</td>\n",
       "      <td>2.55</td>\n",
       "      <td>17850.0</td>\n",
       "      <td>United Kingdom</td>\n",
       "    </tr>\n",
       "    <tr>\n",
       "      <th>1</th>\n",
       "      <td>536365</td>\n",
       "      <td>71053</td>\n",
       "      <td>WHITE METAL LANTERN</td>\n",
       "      <td>6</td>\n",
       "      <td>12/1/2010 8:26</td>\n",
       "      <td>3.39</td>\n",
       "      <td>17850.0</td>\n",
       "      <td>United Kingdom</td>\n",
       "    </tr>\n",
       "    <tr>\n",
       "      <th>2</th>\n",
       "      <td>536365</td>\n",
       "      <td>84406B</td>\n",
       "      <td>CREAM CUPID HEARTS COAT HANGER</td>\n",
       "      <td>8</td>\n",
       "      <td>12/1/2010 8:26</td>\n",
       "      <td>2.75</td>\n",
       "      <td>17850.0</td>\n",
       "      <td>United Kingdom</td>\n",
       "    </tr>\n",
       "    <tr>\n",
       "      <th>3</th>\n",
       "      <td>536365</td>\n",
       "      <td>84029G</td>\n",
       "      <td>KNITTED UNION FLAG HOT WATER BOTTLE</td>\n",
       "      <td>6</td>\n",
       "      <td>12/1/2010 8:26</td>\n",
       "      <td>3.39</td>\n",
       "      <td>17850.0</td>\n",
       "      <td>United Kingdom</td>\n",
       "    </tr>\n",
       "    <tr>\n",
       "      <th>4</th>\n",
       "      <td>536365</td>\n",
       "      <td>84029E</td>\n",
       "      <td>RED WOOLLY HOTTIE WHITE HEART.</td>\n",
       "      <td>6</td>\n",
       "      <td>12/1/2010 8:26</td>\n",
       "      <td>3.39</td>\n",
       "      <td>17850.0</td>\n",
       "      <td>United Kingdom</td>\n",
       "    </tr>\n",
       "  </tbody>\n",
       "</table>\n",
       "</div>"
      ],
      "text/plain": [
       "  InvoiceNo StockCode                          Description  Quantity  \\\n",
       "0    536365    85123A   WHITE HANGING HEART T-LIGHT HOLDER         6   \n",
       "1    536365     71053                  WHITE METAL LANTERN         6   \n",
       "2    536365    84406B       CREAM CUPID HEARTS COAT HANGER         8   \n",
       "3    536365    84029G  KNITTED UNION FLAG HOT WATER BOTTLE         6   \n",
       "4    536365    84029E       RED WOOLLY HOTTIE WHITE HEART.         6   \n",
       "\n",
       "      InvoiceDate  UnitPrice  CustomerID         Country  \n",
       "0  12/1/2010 8:26       2.55     17850.0  United Kingdom  \n",
       "1  12/1/2010 8:26       3.39     17850.0  United Kingdom  \n",
       "2  12/1/2010 8:26       2.75     17850.0  United Kingdom  \n",
       "3  12/1/2010 8:26       3.39     17850.0  United Kingdom  \n",
       "4  12/1/2010 8:26       3.39     17850.0  United Kingdom  "
      ]
     },
     "execution_count": 12,
     "metadata": {},
     "output_type": "execute_result"
    }
   ],
   "source": [
    "df = online_retail.data.original\n",
    "df.head()"
   ]
  },
  {
   "cell_type": "code",
   "execution_count": 16,
   "metadata": {},
   "outputs": [
    {
     "data": {
      "text/plain": [
       "InvoiceNo  StockCode  Description                          Quantity  InvoiceDate       UnitPrice  CustomerID  Country       \n",
       "555524     22698      PINK REGENCY TEACUP AND SAUCER        1        6/5/2011 11:37    2.95       16923.0     United Kingdom    20\n",
       "           22697      GREEN REGENCY TEACUP AND SAUCER       1        6/5/2011 11:37    2.95       16923.0     United Kingdom    12\n",
       "572861     22775      PURPLE DRAWERKNOB ACRYLIC EDWARDIAN   12       10/26/2011 12:46  1.25       14102.0     United Kingdom     8\n",
       "572344     M          Manual                                48       10/24/2011 10:43  1.50       14607.0     United Kingdom     6\n",
       "578289     23395      BELLE JARDINIERE CUSHION COVER        1        11/23/2011 14:07  3.75       17841.0     United Kingdom     6\n",
       "                                                                                                                                ..\n",
       "553915     21174      POTTERING IN THE SHED METAL SIGN      12       5/19/2011 19:51   2.08       18225.0     United Kingdom     1\n",
       "           21165      BEWARE OF THE CAT METAL SIGN          12       5/19/2011 19:51   1.69       18225.0     United Kingdom     1\n",
       "           21080      SET/20 RED RETROSPOT PAPER NAPKINS    12       5/19/2011 19:51   0.85       18225.0     United Kingdom     1\n",
       "           21078      SET/20 STRAWBERRY PAPER NAPKINS       12       5/19/2011 19:51   0.85       18225.0     United Kingdom     1\n",
       "C581569    84978      HANGING HEART JAR T-LIGHT HOLDER     -1        12/9/2011 11:58   1.25       17315.0     United Kingdom     1\n",
       "Name: count, Length: 401604, dtype: int64"
      ]
     },
     "execution_count": 16,
     "metadata": {},
     "output_type": "execute_result"
    }
   ],
   "source": [
    "df.value_counts()"
   ]
  },
  {
   "cell_type": "code",
   "execution_count": 17,
   "metadata": {},
   "outputs": [
    {
     "data": {
      "text/html": [
       "<div>\n",
       "<style scoped>\n",
       "    .dataframe tbody tr th:only-of-type {\n",
       "        vertical-align: middle;\n",
       "    }\n",
       "\n",
       "    .dataframe tbody tr th {\n",
       "        vertical-align: top;\n",
       "    }\n",
       "\n",
       "    .dataframe thead th {\n",
       "        text-align: right;\n",
       "    }\n",
       "</style>\n",
       "<table border=\"1\" class=\"dataframe\">\n",
       "  <thead>\n",
       "    <tr style=\"text-align: right;\">\n",
       "      <th></th>\n",
       "      <th>InvoiceNo</th>\n",
       "      <th>StockCode</th>\n",
       "      <th>Description</th>\n",
       "      <th>Quantity</th>\n",
       "      <th>InvoiceDate</th>\n",
       "      <th>UnitPrice</th>\n",
       "      <th>CustomerID</th>\n",
       "      <th>Country</th>\n",
       "      <th>Total_price</th>\n",
       "    </tr>\n",
       "  </thead>\n",
       "  <tbody>\n",
       "    <tr>\n",
       "      <th>0</th>\n",
       "      <td>536365</td>\n",
       "      <td>85123A</td>\n",
       "      <td>WHITE HANGING HEART T-LIGHT HOLDER</td>\n",
       "      <td>6</td>\n",
       "      <td>2010-12-01 08:26:00</td>\n",
       "      <td>2.55</td>\n",
       "      <td>17850.0</td>\n",
       "      <td>United Kingdom</td>\n",
       "      <td>15.30</td>\n",
       "    </tr>\n",
       "    <tr>\n",
       "      <th>1</th>\n",
       "      <td>536365</td>\n",
       "      <td>71053</td>\n",
       "      <td>WHITE METAL LANTERN</td>\n",
       "      <td>6</td>\n",
       "      <td>2010-12-01 08:26:00</td>\n",
       "      <td>3.39</td>\n",
       "      <td>17850.0</td>\n",
       "      <td>United Kingdom</td>\n",
       "      <td>20.34</td>\n",
       "    </tr>\n",
       "    <tr>\n",
       "      <th>2</th>\n",
       "      <td>536365</td>\n",
       "      <td>84406B</td>\n",
       "      <td>CREAM CUPID HEARTS COAT HANGER</td>\n",
       "      <td>8</td>\n",
       "      <td>2010-12-01 08:26:00</td>\n",
       "      <td>2.75</td>\n",
       "      <td>17850.0</td>\n",
       "      <td>United Kingdom</td>\n",
       "      <td>22.00</td>\n",
       "    </tr>\n",
       "    <tr>\n",
       "      <th>3</th>\n",
       "      <td>536365</td>\n",
       "      <td>84029G</td>\n",
       "      <td>KNITTED UNION FLAG HOT WATER BOTTLE</td>\n",
       "      <td>6</td>\n",
       "      <td>2010-12-01 08:26:00</td>\n",
       "      <td>3.39</td>\n",
       "      <td>17850.0</td>\n",
       "      <td>United Kingdom</td>\n",
       "      <td>20.34</td>\n",
       "    </tr>\n",
       "    <tr>\n",
       "      <th>4</th>\n",
       "      <td>536365</td>\n",
       "      <td>84029E</td>\n",
       "      <td>RED WOOLLY HOTTIE WHITE HEART.</td>\n",
       "      <td>6</td>\n",
       "      <td>2010-12-01 08:26:00</td>\n",
       "      <td>3.39</td>\n",
       "      <td>17850.0</td>\n",
       "      <td>United Kingdom</td>\n",
       "      <td>20.34</td>\n",
       "    </tr>\n",
       "  </tbody>\n",
       "</table>\n",
       "</div>"
      ],
      "text/plain": [
       "  InvoiceNo StockCode                          Description  Quantity  \\\n",
       "0    536365    85123A   WHITE HANGING HEART T-LIGHT HOLDER         6   \n",
       "1    536365     71053                  WHITE METAL LANTERN         6   \n",
       "2    536365    84406B       CREAM CUPID HEARTS COAT HANGER         8   \n",
       "3    536365    84029G  KNITTED UNION FLAG HOT WATER BOTTLE         6   \n",
       "4    536365    84029E       RED WOOLLY HOTTIE WHITE HEART.         6   \n",
       "\n",
       "          InvoiceDate  UnitPrice  CustomerID         Country  Total_price  \n",
       "0 2010-12-01 08:26:00       2.55     17850.0  United Kingdom        15.30  \n",
       "1 2010-12-01 08:26:00       3.39     17850.0  United Kingdom        20.34  \n",
       "2 2010-12-01 08:26:00       2.75     17850.0  United Kingdom        22.00  \n",
       "3 2010-12-01 08:26:00       3.39     17850.0  United Kingdom        20.34  \n",
       "4 2010-12-01 08:26:00       3.39     17850.0  United Kingdom        20.34  "
      ]
     },
     "execution_count": 17,
     "metadata": {},
     "output_type": "execute_result"
    }
   ],
   "source": [
    "#Data Cleaning\n",
    "#Drop missing customer IDs [essential for segmentation]\n",
    "df = df.dropna(subset=['CustomerID'])\n",
    "\n",
    "# Remove cancelled/refunded transactions (negative quantities)\n",
    "df = df[df['Quantity']>0]\n",
    "\n",
    "# Create a \"Total Price\" column\n",
    "df['Total_price'] = df['Quantity']*df['UnitPrice']\n",
    "\n",
    "# Convert InvoiceDate to datetime\n",
    "df['InvoiceDate'] = pd.to_datetime(df['InvoiceDate'])\n",
    "\n",
    "# Display cleaned dataset\n",
    "df.head()"
   ]
  },
  {
   "cell_type": "markdown",
   "metadata": {},
   "source": [
    "#### Exploratory Data Analysis (EDA)\n",
    "##### Step 2: Create RFM Features"
   ]
  },
  {
   "cell_type": "code",
   "execution_count": 19,
   "metadata": {},
   "outputs": [
    {
     "data": {
      "text/html": [
       "<div>\n",
       "<style scoped>\n",
       "    .dataframe tbody tr th:only-of-type {\n",
       "        vertical-align: middle;\n",
       "    }\n",
       "\n",
       "    .dataframe tbody tr th {\n",
       "        vertical-align: top;\n",
       "    }\n",
       "\n",
       "    .dataframe thead th {\n",
       "        text-align: right;\n",
       "    }\n",
       "</style>\n",
       "<table border=\"1\" class=\"dataframe\">\n",
       "  <thead>\n",
       "    <tr style=\"text-align: right;\">\n",
       "      <th></th>\n",
       "      <th>Recency</th>\n",
       "      <th>Frequency</th>\n",
       "      <th>Total_price</th>\n",
       "    </tr>\n",
       "    <tr>\n",
       "      <th>CustomerID</th>\n",
       "      <th></th>\n",
       "      <th></th>\n",
       "      <th></th>\n",
       "    </tr>\n",
       "  </thead>\n",
       "  <tbody>\n",
       "    <tr>\n",
       "      <th>12346.0</th>\n",
       "      <td>325</td>\n",
       "      <td>1</td>\n",
       "      <td>77183.60</td>\n",
       "    </tr>\n",
       "    <tr>\n",
       "      <th>12347.0</th>\n",
       "      <td>1</td>\n",
       "      <td>7</td>\n",
       "      <td>4310.00</td>\n",
       "    </tr>\n",
       "    <tr>\n",
       "      <th>12348.0</th>\n",
       "      <td>74</td>\n",
       "      <td>4</td>\n",
       "      <td>1797.24</td>\n",
       "    </tr>\n",
       "    <tr>\n",
       "      <th>12349.0</th>\n",
       "      <td>18</td>\n",
       "      <td>1</td>\n",
       "      <td>1757.55</td>\n",
       "    </tr>\n",
       "    <tr>\n",
       "      <th>12350.0</th>\n",
       "      <td>309</td>\n",
       "      <td>1</td>\n",
       "      <td>334.40</td>\n",
       "    </tr>\n",
       "  </tbody>\n",
       "</table>\n",
       "</div>"
      ],
      "text/plain": [
       "            Recency  Frequency  Total_price\n",
       "CustomerID                                 \n",
       "12346.0         325          1     77183.60\n",
       "12347.0           1          7      4310.00\n",
       "12348.0          74          4      1797.24\n",
       "12349.0          18          1      1757.55\n",
       "12350.0         309          1       334.40"
      ]
     },
     "execution_count": 19,
     "metadata": {},
     "output_type": "execute_result"
    }
   ],
   "source": [
    "#Define snapshot last transaction date\n",
    "snapshot_date = df['InvoiceDate'].max()\n",
    "\n",
    "# Calculate Recency, Frequency, and Monetary values per customer\n",
    "rfm = df.groupby('CustomerID').agg({\n",
    "    'InvoiceDate': lambda x : (snapshot_date - x.max()).days,\n",
    "    'InvoiceNo': 'nunique',\n",
    "    'Total_price': 'sum'\n",
    "})\n",
    "\n",
    "# Rename columns\n",
    "rfm.rename(columns={\n",
    "    'InvoiceDate': 'Recency',\n",
    "    'InvoiceNo': 'Frequency',\n",
    "    'TotalPrice': 'Monetary'}, inplace=True)\n",
    "\n",
    "# Display RFM dataset\n",
    "rfm.head()"
   ]
  },
  {
   "cell_type": "markdown",
   "metadata": {},
   "source": [
    "#### Clustering & Segmentation \n",
    "##### Step 3: Apply K-Means Clustering"
   ]
  },
  {
   "cell_type": "code",
   "execution_count": 20,
   "metadata": {},
   "outputs": [],
   "source": [
    "from sklearn.preprocessing import StandardScaler\n",
    "\n",
    "scalar = StandardScaler()\n",
    "rfm_scaled = scalar.fit_transform(rfm)\n",
    "\n",
    "#Covert to panda frame\n",
    "rfm_scaled = pd.DataFrame(rfm_scaled, columns= ['Recency','Frequency','Monetary'])"
   ]
  },
  {
   "cell_type": "code",
   "execution_count": 21,
   "metadata": {},
   "outputs": [
    {
     "data": {
      "image/png": "[encoded data removed]",
      "text/plain": [
       "<Figure size 800x500 with 1 Axes>"
      ]
     },
     "metadata": {},
     "output_type": "display_data"
    }
   ],
   "source": [
    "#Find Optimal K (Elbow Method)\n",
    "inertia = []\n",
    "k_values = range(1, 11)\n",
    "\n",
    "for k in k_values:\n",
    "    kmeans = KMeans(n_clusters=k, random_state=42)\n",
    "    kmeans.fit(rfm_scaled)\n",
    "    inertia.append(kmeans.inertia_)\n",
    "\n",
    "# Plot the Elbow Curve\n",
    "plt.figure(figsize=(8, 5))\n",
    "plt.plot(k_values, inertia, marker='o')\n",
    "plt.xlabel('Number of Clusters (K)')\n",
    "plt.ylabel('Inertia')\n",
    "plt.title('Elbow Method to Find Optimal K')\n",
    "plt.show()\n"
   ]
  },
  {
   "cell_type": "code",
   "execution_count": 22,
   "metadata": {},
   "outputs": [
    {
     "data": {
      "text/html": [
       "<div>\n",
       "<style scoped>\n",
       "    .dataframe tbody tr th:only-of-type {\n",
       "        vertical-align: middle;\n",
       "    }\n",
       "\n",
       "    .dataframe tbody tr th {\n",
       "        vertical-align: top;\n",
       "    }\n",
       "\n",
       "    .dataframe thead th {\n",
       "        text-align: right;\n",
       "    }\n",
       "</style>\n",
       "<table border=\"1\" class=\"dataframe\">\n",
       "  <thead>\n",
       "    <tr style=\"text-align: right;\">\n",
       "      <th></th>\n",
       "      <th>Recency</th>\n",
       "      <th>Frequency</th>\n",
       "      <th>Total_price</th>\n",
       "      <th>Cluster</th>\n",
       "    </tr>\n",
       "    <tr>\n",
       "      <th>CustomerID</th>\n",
       "      <th></th>\n",
       "      <th></th>\n",
       "      <th></th>\n",
       "      <th></th>\n",
       "    </tr>\n",
       "  </thead>\n",
       "  <tbody>\n",
       "    <tr>\n",
       "      <th>12346.0</th>\n",
       "      <td>325</td>\n",
       "      <td>1</td>\n",
       "      <td>77183.60</td>\n",
       "      <td>1</td>\n",
       "    </tr>\n",
       "    <tr>\n",
       "      <th>12347.0</th>\n",
       "      <td>1</td>\n",
       "      <td>7</td>\n",
       "      <td>4310.00</td>\n",
       "      <td>0</td>\n",
       "    </tr>\n",
       "    <tr>\n",
       "      <th>12348.0</th>\n",
       "      <td>74</td>\n",
       "      <td>4</td>\n",
       "      <td>1797.24</td>\n",
       "      <td>0</td>\n",
       "    </tr>\n",
       "    <tr>\n",
       "      <th>12349.0</th>\n",
       "      <td>18</td>\n",
       "      <td>1</td>\n",
       "      <td>1757.55</td>\n",
       "      <td>0</td>\n",
       "    </tr>\n",
       "    <tr>\n",
       "      <th>12350.0</th>\n",
       "      <td>309</td>\n",
       "      <td>1</td>\n",
       "      <td>334.40</td>\n",
       "      <td>1</td>\n",
       "    </tr>\n",
       "  </tbody>\n",
       "</table>\n",
       "</div>"
      ],
      "text/plain": [
       "            Recency  Frequency  Total_price  Cluster\n",
       "CustomerID                                          \n",
       "12346.0         325          1     77183.60        1\n",
       "12347.0           1          7      4310.00        0\n",
       "12348.0          74          4      1797.24        0\n",
       "12349.0          18          1      1757.55        0\n",
       "12350.0         309          1       334.40        1"
      ]
     },
     "execution_count": 22,
     "metadata": {},
     "output_type": "execute_result"
    }
   ],
   "source": [
    "# Fit K-Means with optimal K (let's assume 4)\n",
    "kmeans = KMeans(n_clusters=3, random_state=42)\n",
    "rfm['Cluster'] = kmeans.fit_predict(rfm_scaled)\n",
    "\n",
    "# Display clustered dataset\n",
    "rfm.head()\n"
   ]
  },
  {
   "cell_type": "code",
   "execution_count": 23,
   "metadata": {},
   "outputs": [
    {
     "data": {
      "text/html": [
       "<div>\n",
       "<style scoped>\n",
       "    .dataframe tbody tr th:only-of-type {\n",
       "        vertical-align: middle;\n",
       "    }\n",
       "\n",
       "    .dataframe tbody tr th {\n",
       "        vertical-align: top;\n",
       "    }\n",
       "\n",
       "    .dataframe thead th {\n",
       "        text-align: right;\n",
       "    }\n",
       "</style>\n",
       "<table border=\"1\" class=\"dataframe\">\n",
       "  <thead>\n",
       "    <tr style=\"text-align: right;\">\n",
       "      <th></th>\n",
       "      <th>Recency</th>\n",
       "      <th>Frequency</th>\n",
       "      <th>Total_price</th>\n",
       "    </tr>\n",
       "    <tr>\n",
       "      <th>Cluster</th>\n",
       "      <th></th>\n",
       "      <th></th>\n",
       "      <th></th>\n",
       "    </tr>\n",
       "  </thead>\n",
       "  <tbody>\n",
       "    <tr>\n",
       "      <th>0</th>\n",
       "      <td>40.445682</td>\n",
       "      <td>4.671928</td>\n",
       "      <td>1855.367927</td>\n",
       "    </tr>\n",
       "    <tr>\n",
       "      <th>1</th>\n",
       "      <td>246.106285</td>\n",
       "      <td>1.582255</td>\n",
       "      <td>631.424206</td>\n",
       "    </tr>\n",
       "    <tr>\n",
       "      <th>2</th>\n",
       "      <td>5.038462</td>\n",
       "      <td>66.500000</td>\n",
       "      <td>85904.351538</td>\n",
       "    </tr>\n",
       "  </tbody>\n",
       "</table>\n",
       "</div>"
      ],
      "text/plain": [
       "            Recency  Frequency   Total_price\n",
       "Cluster                                     \n",
       "0         40.445682   4.671928   1855.367927\n",
       "1        246.106285   1.582255    631.424206\n",
       "2          5.038462  66.500000  85904.351538"
      ]
     },
     "execution_count": 23,
     "metadata": {},
     "output_type": "execute_result"
    }
   ],
   "source": [
    "rfm.groupby('Cluster').mean()"
   ]
  },
  {
   "cell_type": "code",
   "execution_count": 45,
   "metadata": {},
   "outputs": [],
   "source": [
    "rfm_scaled['Cluster'] = rfm['Cluster'].values #assign cluster column"
   ]
  },
  {
   "cell_type": "code",
   "execution_count": 46,
   "metadata": {},
   "outputs": [
    {
     "name": "stdout",
     "output_type": "stream",
     "text": [
      "0\n",
      "Cluster\n",
      "0    3231\n",
      "1    1082\n",
      "2      26\n",
      "Name: count, dtype: int64\n"
     ]
    }
   ],
   "source": [
    "print(rfm_scaled['Cluster'].isnull().sum())  # Should be 0\n",
    "print(rfm_scaled['Cluster'].value_counts())  # Should show counts for different clusters"
   ]
  },
  {
   "cell_type": "code",
   "execution_count": 47,
   "metadata": {},
   "outputs": [
    {
     "name": "stdout",
     "output_type": "stream",
     "text": [
      "Recency      0\n",
      "Frequency    0\n",
      "Monetary     0\n",
      "Cluster      0\n",
      "dtype: int64\n"
     ]
    }
   ],
   "source": [
    "print(rfm_scaled.isnull().sum())  # Check for missing values"
   ]
  },
  {
   "cell_type": "markdown",
   "metadata": {},
   "source": [
    "#### Visualization & Business Insights\n",
    "##### Draw a plot using Seaborn & Matplotlib"
   ]
  },
  {
   "cell_type": "code",
   "execution_count": 48,
   "metadata": {},
   "outputs": [
    {
     "data": {
      "image/png": "[encoded data removed]",
      "text/plain": [
       "<Figure size 640x480 with 1 Axes>"
      ]
     },
     "metadata": {},
     "output_type": "display_data"
    }
   ],
   "source": [
    "sns.scatterplot(x=rfm_scaled['Recency'], y=rfm_scaled['Monetary'], hue=rfm_scaled['Cluster'], palette='viridis')\n",
    "plt.xlabel(\"Recency (Scaled)\")\n",
    "plt.ylabel(\"Monetary (Scaled)\")\n",
    "plt.title(\"Customer Segments\")\n",
    "plt.legend(title=\"Cluster\")\n",
    "plt.show()"
   ]
  },
  {
   "cell_type": "markdown",
   "metadata": {},
   "source": [
    "# 📊 Customer Segments Analysis\n",
    "\n",
    "## 🧐 Interpretation of the Scatter Plot\n",
    "\n",
    "### **Cluster 0 (Dark Purple)**\n",
    "- Customers with **low recency** (recent buyers).\n",
    "- Mostly low to moderate monetary values.\n",
    "- **Largest cluster** → Likely **regular buyers with moderate spending**.\n",
    "\n",
    "### **Cluster 1 (Teal/Blue-Green)**\n",
    "- Customers with **high recency** (haven't purchased in a while).\n",
    "- Lower monetary values.\n",
    "- Represents **churned or inactive customers**.\n",
    "\n",
    "### **Cluster 2 (Yellow)**\n",
    "- Customers with **low recency (recent buyers) but high monetary values**.\n",
    "- Likely **high-value or VIP customers**."
   ]
  },
  {
   "cell_type": "code",
   "execution_count": 49,
   "metadata": {},
   "outputs": [
    {
     "name": "stderr",
     "output_type": "stream",
     "text": [
      "/var/folders/9m/xmb6cfqs55d_cp4t3s4m_9180000gn/T/ipykernel_67150/3303577002.py:5: FutureWarning: \n",
      "\n",
      "Passing `palette` without assigning `hue` is deprecated and will be removed in v0.14.0. Assign the `x` variable to `hue` and set `legend=False` for the same effect.\n",
      "\n",
      "  sns.countplot(x=rfm[\"Cluster\"], palette=\"viridis\")\n"
     ]
    },
    {
     "data": {
      "image/png": "[encoded data removed]",
      "text/plain": [
       "<Figure size 640x480 with 1 Axes>"
      ]
     },
     "metadata": {},
     "output_type": "display_data"
    }
   ],
   "source": [
    "import seaborn as sns\n",
    "import matplotlib.pyplot as plt\n",
    "\n",
    "# Count plot for clusters\n",
    "sns.countplot(x=rfm[\"Cluster\"], palette=\"viridis\")\n",
    "plt.title(\"Customer Distribution Across Clusters\")\n",
    "plt.xlabel(\"Cluster\")\n",
    "plt.ylabel(\"Number of Customers\")\n",
    "plt.show()\n"
   ]
  },
  {
   "cell_type": "code",
   "execution_count": 61,
   "metadata": {},
   "outputs": [
    {
     "name": "stderr",
     "output_type": "stream",
     "text": [
      "/var/folders/9m/xmb6cfqs55d_cp4t3s4m_9180000gn/T/ipykernel_67150/211361888.py:2: FutureWarning: \n",
      "\n",
      "Passing `palette` without assigning `hue` is deprecated and will be removed in v0.14.0. Assign the `x` variable to `hue` and set `legend=False` for the same effect.\n",
      "\n",
      "  sns.boxplot(x=rfm_scaled[\"Cluster\"], y=rfm_scaled[\"Monetary\"], palette=\"viridis\")\n"
     ]
    },
    {
     "data": {
      "image/png": "[encoded data removed]",
      "text/plain": [
       "<Figure size 1000x500 with 1 Axes>"
      ]
     },
     "metadata": {},
     "output_type": "display_data"
    }
   ],
   "source": [
    "plt.figure(figsize=(10, 5))\n",
    "sns.boxplot(x=rfm_scaled[\"Cluster\"], y=rfm_scaled[\"Monetary\"], palette=\"viridis\")\n",
    "plt.title(\"Spending Patterns Across Clusters\")\n",
    "plt.xlabel(\"Cluster\")\n",
    "plt.ylabel(\"Monetary Value (Total Spend)\")\n",
    "plt.show()\n"
   ]
  },
  {
   "cell_type": "markdown",
   "metadata": {},
   "source": [
    "### ***Understanding the Boxplot (Spending Patterns Across Clusters)***\n",
    "\n",
    "- The X-axis represents different clusters (0, 1, and 2).\n",
    "- The Y-axis represents the Monetary Value (Total Spend) by customers.\n",
    "- The boxplot shows how spending varies across different clusters.\n",
    "### **Insights from the Boxplot**:\n",
    "\n",
    "#### 1. Cluster 0 & 1:\n",
    "- These clusters have low total spend, indicating low-value customers.\n",
    "- There are many outliers, suggesting some customers in these clusters spend more than the typical range.\n",
    "#### 2. Cluster 2:\n",
    "- This cluster has a significantly higher total spend.\n",
    "- The median spend is much higher than Clusters 0 and 1.\n",
    "- There are a few extreme high-value outliers, meaning some customers spend exceptionally more.\n",
    "### Conclusion:\n",
    "- Cluster 2 represents high-value customers who contribute the most to revenue.\n",
    "- Clusters 0 and 1 likely consist of low-value or occasional buyers."
   ]
  },
  {
   "cell_type": "code",
   "execution_count": 62,
   "metadata": {},
   "outputs": [
    {
     "data": {
      "image/png": "[encoded data removed]",
      "text/plain": [
       "<Figure size 640x480 with 2 Axes>"
      ]
     },
     "metadata": {},
     "output_type": "display_data"
    }
   ],
   "source": [
    "sns.heatmap(rfm_scaled[['Recency', 'Frequency', 'Monetary']].corr(), annot=True, cmap=\"coolwarm\", linewidths=0.5)\n",
    "plt.title(\"Correlation Between RFM Metrics\")\n",
    "plt.show()"
   ]
  },
  {
   "cell_type": "markdown",
   "metadata": {},
   "source": [
    "### **Understanding the Heatmap (Correlation Between RFM Metrics)**\n",
    "- The heatmap displays correlations between Recency, Frequency, and Monetary Value.\n",
    "- Values range from -1 to 1:\n",
    "    - 1 (red) → Strong positive correlation.\n",
    "    - 1 (blue) → Strong negative correlation.\n",
    "    - 0 (neutral) → No correlation.\n",
    "#### **Insights from the Heatmap:**\n",
    "1. Frequency & Monetary Value (0.55 correlation):\n",
    "- Moderate positive correlation.\n",
    "- Customers who purchase more frequently tend to spend more.\n",
    "2. Recency & Frequency (-0.26 correlation):\n",
    "- Slight negative correlation.\n",
    "- Customers who purchase frequently tend to have lower recency values (i.e., they buy more recently).\n",
    "3. Recency & Monetary (-0.12 correlation):\n",
    "- Weak negative correlation.\n",
    "- Customers who haven't purchased recently don't necessarily spend less.\n",
    "#### **Conclusion:**\n",
    "- Focusing on frequent buyers can be a good strategy since they also tend to spend more.\n",
    "- Recency has a weaker impact on monetary value, so not all recent customers are high spenders."
   ]
  },
  {
   "cell_type": "code",
   "execution_count": 64,
   "metadata": {},
   "outputs": [
    {
     "data": {
      "text/html": [
       "<div>\n",
       "<style scoped>\n",
       "    .dataframe tbody tr th:only-of-type {\n",
       "        vertical-align: middle;\n",
       "    }\n",
       "\n",
       "    .dataframe tbody tr th {\n",
       "        vertical-align: top;\n",
       "    }\n",
       "\n",
       "    .dataframe thead th {\n",
       "        text-align: right;\n",
       "    }\n",
       "</style>\n",
       "<table border=\"1\" class=\"dataframe\">\n",
       "  <thead>\n",
       "    <tr style=\"text-align: right;\">\n",
       "      <th></th>\n",
       "      <th>Recency</th>\n",
       "      <th>Frequency</th>\n",
       "      <th>Total_price</th>\n",
       "      <th>Cluster</th>\n",
       "    </tr>\n",
       "    <tr>\n",
       "      <th>CustomerID</th>\n",
       "      <th></th>\n",
       "      <th></th>\n",
       "      <th></th>\n",
       "      <th></th>\n",
       "    </tr>\n",
       "  </thead>\n",
       "  <tbody>\n",
       "    <tr>\n",
       "      <th>12346.0</th>\n",
       "      <td>325</td>\n",
       "      <td>1</td>\n",
       "      <td>77183.60</td>\n",
       "      <td>1</td>\n",
       "    </tr>\n",
       "    <tr>\n",
       "      <th>12347.0</th>\n",
       "      <td>1</td>\n",
       "      <td>7</td>\n",
       "      <td>4310.00</td>\n",
       "      <td>0</td>\n",
       "    </tr>\n",
       "    <tr>\n",
       "      <th>12348.0</th>\n",
       "      <td>74</td>\n",
       "      <td>4</td>\n",
       "      <td>1797.24</td>\n",
       "      <td>0</td>\n",
       "    </tr>\n",
       "    <tr>\n",
       "      <th>12349.0</th>\n",
       "      <td>18</td>\n",
       "      <td>1</td>\n",
       "      <td>1757.55</td>\n",
       "      <td>0</td>\n",
       "    </tr>\n",
       "    <tr>\n",
       "      <th>12350.0</th>\n",
       "      <td>309</td>\n",
       "      <td>1</td>\n",
       "      <td>334.40</td>\n",
       "      <td>1</td>\n",
       "    </tr>\n",
       "    <tr>\n",
       "      <th>...</th>\n",
       "      <td>...</td>\n",
       "      <td>...</td>\n",
       "      <td>...</td>\n",
       "      <td>...</td>\n",
       "    </tr>\n",
       "    <tr>\n",
       "      <th>18280.0</th>\n",
       "      <td>277</td>\n",
       "      <td>1</td>\n",
       "      <td>180.60</td>\n",
       "      <td>1</td>\n",
       "    </tr>\n",
       "    <tr>\n",
       "      <th>18281.0</th>\n",
       "      <td>180</td>\n",
       "      <td>1</td>\n",
       "      <td>80.82</td>\n",
       "      <td>1</td>\n",
       "    </tr>\n",
       "    <tr>\n",
       "      <th>18282.0</th>\n",
       "      <td>7</td>\n",
       "      <td>2</td>\n",
       "      <td>178.05</td>\n",
       "      <td>0</td>\n",
       "    </tr>\n",
       "    <tr>\n",
       "      <th>18283.0</th>\n",
       "      <td>3</td>\n",
       "      <td>16</td>\n",
       "      <td>2094.88</td>\n",
       "      <td>0</td>\n",
       "    </tr>\n",
       "    <tr>\n",
       "      <th>18287.0</th>\n",
       "      <td>42</td>\n",
       "      <td>3</td>\n",
       "      <td>1837.28</td>\n",
       "      <td>0</td>\n",
       "    </tr>\n",
       "  </tbody>\n",
       "</table>\n",
       "<p>4339 rows × 4 columns</p>\n",
       "</div>"
      ],
      "text/plain": [
       "            Recency  Frequency  Total_price  Cluster\n",
       "CustomerID                                          \n",
       "12346.0         325          1     77183.60        1\n",
       "12347.0           1          7      4310.00        0\n",
       "12348.0          74          4      1797.24        0\n",
       "12349.0          18          1      1757.55        0\n",
       "12350.0         309          1       334.40        1\n",
       "...             ...        ...          ...      ...\n",
       "18280.0         277          1       180.60        1\n",
       "18281.0         180          1        80.82        1\n",
       "18282.0           7          2       178.05        0\n",
       "18283.0           3         16      2094.88        0\n",
       "18287.0          42          3      1837.28        0\n",
       "\n",
       "[4339 rows x 4 columns]"
      ]
     },
     "execution_count": 64,
     "metadata": {},
     "output_type": "execute_result"
    }
   ],
   "source": [
    "rfm"
   ]
  },
  {
   "cell_type": "code",
   "execution_count": 69,
   "metadata": {},
   "outputs": [
    {
     "data": {
      "text/plain": [
       "'/Users/prudhvileo/Downloads/rfm_scaled.csv'"
      ]
     },
     "execution_count": 69,
     "metadata": {},
     "output_type": "execute_result"
    }
   ],
   "source": [
    "#Save dataframe to csv to use it for visualizations\n",
    "file_path = \"/Users/prudhvileo/Downloads/rfm_scaled.csv\"\n",
    "rfm_scaled.to_csv(file_path, index=False)\n",
    "\n",
    "file_path"
   ]
  }
 ],
 "metadata": {
  "kernelspec": {
   "display_name": "ML",
   "language": "python",
   "name": "python3"
  },
  "language_info": {
   "codemirror_mode": {
    "name": "ipython",
    "version": 3
   },
   "file_extension": ".py",
   "mimetype": "text/x-python",
   "name": "python",
   "nbconvert_exporter": "python",
   "pygments_lexer": "ipython3",
   "version": "3.9.21"
  }
 },
 "nbformat": 4,
 "nbformat_minor": 2
}
